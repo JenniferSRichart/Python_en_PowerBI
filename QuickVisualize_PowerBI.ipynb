{
  "nbformat": 4,
  "nbformat_minor": 0,
  "metadata": {
    "colab": {
      "provenance": [],
      "authorship_tag": "ABX9TyNNKyNUGGrChC1ux4v3wytv",
      "include_colab_link": true
    },
    "kernelspec": {
      "name": "python3",
      "display_name": "Python 3"
    },
    "language_info": {
      "name": "python"
    },
    "widgets": {
      "application/vnd.jupyter.widget-state+json": {
        "e13c0df57d3a45dd87be76dc707d6510": {
          "model_module": "powerbi-jupyter-client",
          "model_name": "QuickVisualizeModel",
          "model_module_version": "3.1.1",
          "state": {
            "_dom_classes": [],
            "_embed_config": {
              "accessToken": "eyJ0eXAiOiJKV1QiLCJhbGciOiJSUzI1NiIsIng1dCI6IlhSdmtvOFA3QTNVYVdTblU3Yk05blQwTWpoQSIsImtpZCI6IlhSdmtvOFA3QTNVYVdTblU3Yk05blQwTWpoQSJ9.eyJhdWQiOiJodHRwczovL2FuYWx5c2lzLndpbmRvd3MubmV0L3Bvd2VyYmkvYXBpIiwiaXNzIjoiaHR0cHM6Ly9zdHMud2luZG93cy5uZXQvNDUzMzEzOTEtMWZmZS00OWEwLTg1NzMtMGI3NjU2MWJjMmUyLyIsImlhdCI6MTcxMDI2ODU1MCwibmJmIjoxNzEwMjY4NTUwLCJleHAiOjE3MTAyNzQxMjcsImFjY3QiOjAsImFjciI6IjEiLCJhaW8iOiJBVlFBcS84V0FBQUF6TDlUaExhZjQzckhuaVFxYURiT1h0blRtTWFPVzNpb1RyejFWV3dWTksrYUFoazJpdmZBUGs4MHJ2SS9GRjV6dGIxYnRLYTl5Z0IvV3ZBVmk4WlVzbWNYdnJyMEZ2N25IYi9KbTFrVjlQYz0iLCJhbXIiOlsicHdkIiwibWZhIl0sImFwcGlkIjoiMWFlYTNmOTctZWRjNi00NDUzLWE1OWItYjg4YjBiODAzNzExIiwiYXBwaWRhY3IiOiIwIiwiZmFtaWx5X25hbWUiOiJTw6FuY2hleiBSaWNoYXJ0IiwiZ2l2ZW5fbmFtZSI6Ikplbm5pZmVyIiwiaXBhZGRyIjoiMzUuMjIxLjIyOC4zNyIsIm5hbWUiOiJKZW5uaWZlciBTw6FuY2hleiBSaWNoYXJ0Iiwib2lkIjoiNmQyZWY5YmMtY2M3OC00NWNiLWFhZGUtMjdkNDc2MjA4ZTFmIiwib25wcmVtX3NpZCI6IlMtMS01LTIxLTM0OTQ4OTY3MzMtNDMxMDMxMjM4LTM0MTQyNTA3NzEtNTIzNCIsInB1aWQiOiIxMDAzMjAwMjExMTAxQTZDIiwicmgiOiIwLkFUc0FrUk16UmY0Zm9FbUZjd3QyVmh2QzRna0FBQUFBQUFBQXdBQUFBQUFBQUFBN0FPZy4iLCJzY3AiOiJDb250ZW50LkNyZWF0ZSBEYXRhc2V0LlJlYWRXcml0ZS5BbGwgUmVwb3J0LlJlYWRXcml0ZS5BbGwgV29ya3NwYWNlLlJlYWQuQWxsIiwic3ViIjoiZ1prM1otZGpjTldwTFRKSTlDTWNlY3NDR0VzeVhTYmhIOVdJa3R1Um1LUSIsInRpZCI6IjQ1MzMxMzkxLTFmZmUtNDlhMC04NTczLTBiNzY1NjFiYzJlMiIsInVuaXF1ZV9uYW1lIjoiamVubmlmZXIuc2FuY2hlekBwd2hlYWx0aGNvbnN1bHRpbmcuY29tIiwidXBuIjoiamVubmlmZXIuc2FuY2hlekBwd2hlYWx0aGNvbnN1bHRpbmcuY29tIiwidXRpIjoiTnJlZVI3Yk9YMGVWcTFaRUZ5NHpBQSIsInZlciI6IjEuMCIsIndpZHMiOlsiYjc5ZmJmNGQtM2VmOS00Njg5LTgxNDMtNzZiMTk0ZTg1NTA5Il19.XuNjrWHHIBkz6-EFSL9fqGQ0QxTQRT3AfFmhqmkb9jcHKxxk03nUPfYedGMROSCi03N8WUlO3DnFhaOq0zx-MM06tnSbeK4u4xKN40D1NYoyFaJ8wbypqtU6SpvQdr16j1xDyrqethFLVXXwADpas1p-FWI_7m_9JQAPzyVr8986Uc7IFAVFT4tQLhH0XemQidfYLGL1F4tbZYCMpaMO4a-bf1Tpbe9WSrhrBjSFhqKCN3XCtBLrxhym9zc7OtNbfkb5mk8YENhRUyEbZIJMwOBvlKLBcs_eCWdjV7pckVUPkjsBgbZu_y46sdkxxjfuR92leuXt_jkpJhzleO869g",
              "datasetCreateConfig": {
                "locale": "en-US",
                "tableSchemaList": [
                  {
                    "name": "Table",
                    "columns": [
                      {
                        "name": "sepal length (cm)",
                        "dataType": "Number"
                      },
                      {
                        "name": "sepal width (cm)",
                        "dataType": "Number"
                      },
                      {
                        "name": "petal length (cm)",
                        "dataType": "Number"
                      },
                      {
                        "name": "petal width (cm)",
                        "dataType": "Number"
                      },
                      {
                        "name": "target",
                        "dataType": "Number"
                      }
                    ]
                  }
                ],
                "data": [
                  {
                    "name": "Table",
                    "rows": [
                      [
                        "5.1",
                        "3.5",
                        "1.4",
                        "0.2",
                        "0"
                      ],
                      [
                        "4.9",
                        "3.0",
                        "1.4",
                        "0.2",
                        "0"
                      ],
                      [
                        "4.7",
                        "3.2",
                        "1.3",
                        "0.2",
                        "0"
                      ],
                      [
                        "4.6",
                        "3.1",
                        "1.5",
                        "0.2",
                        "0"
                      ],
                      [
                        "5.0",
                        "3.6",
                        "1.4",
                        "0.2",
                        "0"
                      ],
                      [
                        "5.4",
                        "3.9",
                        "1.7",
                        "0.4",
                        "0"
                      ],
                      [
                        "4.6",
                        "3.4",
                        "1.4",
                        "0.3",
                        "0"
                      ],
                      [
                        "5.0",
                        "3.4",
                        "1.5",
                        "0.2",
                        "0"
                      ],
                      [
                        "4.4",
                        "2.9",
                        "1.4",
                        "0.2",
                        "0"
                      ],
                      [
                        "4.9",
                        "3.1",
                        "1.5",
                        "0.1",
                        "0"
                      ],
                      [
                        "5.4",
                        "3.7",
                        "1.5",
                        "0.2",
                        "0"
                      ],
                      [
                        "4.8",
                        "3.4",
                        "1.6",
                        "0.2",
                        "0"
                      ],
                      [
                        "4.8",
                        "3.0",
                        "1.4",
                        "0.1",
                        "0"
                      ],
                      [
                        "4.3",
                        "3.0",
                        "1.1",
                        "0.1",
                        "0"
                      ],
                      [
                        "5.8",
                        "4.0",
                        "1.2",
                        "0.2",
                        "0"
                      ],
                      [
                        "5.7",
                        "4.4",
                        "1.5",
                        "0.4",
                        "0"
                      ],
                      [
                        "5.4",
                        "3.9",
                        "1.3",
                        "0.4",
                        "0"
                      ],
                      [
                        "5.1",
                        "3.5",
                        "1.4",
                        "0.3",
                        "0"
                      ],
                      [
                        "5.7",
                        "3.8",
                        "1.7",
                        "0.3",
                        "0"
                      ],
                      [
                        "5.1",
                        "3.8",
                        "1.5",
                        "0.3",
                        "0"
                      ],
                      [
                        "5.4",
                        "3.4",
                        "1.7",
                        "0.2",
                        "0"
                      ],
                      [
                        "5.1",
                        "3.7",
                        "1.5",
                        "0.4",
                        "0"
                      ],
                      [
                        "4.6",
                        "3.6",
                        "1.0",
                        "0.2",
                        "0"
                      ],
                      [
                        "5.1",
                        "3.3",
                        "1.7",
                        "0.5",
                        "0"
                      ],
                      [
                        "4.8",
                        "3.4",
                        "1.9",
                        "0.2",
                        "0"
                      ],
                      [
                        "5.0",
                        "3.0",
                        "1.6",
                        "0.2",
                        "0"
                      ],
                      [
                        "5.0",
                        "3.4",
                        "1.6",
                        "0.4",
                        "0"
                      ],
                      [
                        "5.2",
                        "3.5",
                        "1.5",
                        "0.2",
                        "0"
                      ],
                      [
                        "5.2",
                        "3.4",
                        "1.4",
                        "0.2",
                        "0"
                      ],
                      [
                        "4.7",
                        "3.2",
                        "1.6",
                        "0.2",
                        "0"
                      ],
                      [
                        "4.8",
                        "3.1",
                        "1.6",
                        "0.2",
                        "0"
                      ],
                      [
                        "5.4",
                        "3.4",
                        "1.5",
                        "0.4",
                        "0"
                      ],
                      [
                        "5.2",
                        "4.1",
                        "1.5",
                        "0.1",
                        "0"
                      ],
                      [
                        "5.5",
                        "4.2",
                        "1.4",
                        "0.2",
                        "0"
                      ],
                      [
                        "4.9",
                        "3.1",
                        "1.5",
                        "0.2",
                        "0"
                      ],
                      [
                        "5.0",
                        "3.2",
                        "1.2",
                        "0.2",
                        "0"
                      ],
                      [
                        "5.5",
                        "3.5",
                        "1.3",
                        "0.2",
                        "0"
                      ],
                      [
                        "4.9",
                        "3.6",
                        "1.4",
                        "0.1",
                        "0"
                      ],
                      [
                        "4.4",
                        "3.0",
                        "1.3",
                        "0.2",
                        "0"
                      ],
                      [
                        "5.1",
                        "3.4",
                        "1.5",
                        "0.2",
                        "0"
                      ],
                      [
                        "5.0",
                        "3.5",
                        "1.3",
                        "0.3",
                        "0"
                      ],
                      [
                        "4.5",
                        "2.3",
                        "1.3",
                        "0.3",
                        "0"
                      ],
                      [
                        "4.4",
                        "3.2",
                        "1.3",
                        "0.2",
                        "0"
                      ],
                      [
                        "5.0",
                        "3.5",
                        "1.6",
                        "0.6",
                        "0"
                      ],
                      [
                        "5.1",
                        "3.8",
                        "1.9",
                        "0.4",
                        "0"
                      ],
                      [
                        "4.8",
                        "3.0",
                        "1.4",
                        "0.3",
                        "0"
                      ],
                      [
                        "5.1",
                        "3.8",
                        "1.6",
                        "0.2",
                        "0"
                      ],
                      [
                        "4.6",
                        "3.2",
                        "1.4",
                        "0.2",
                        "0"
                      ],
                      [
                        "5.3",
                        "3.7",
                        "1.5",
                        "0.2",
                        "0"
                      ],
                      [
                        "5.0",
                        "3.3",
                        "1.4",
                        "0.2",
                        "0"
                      ],
                      [
                        "7.0",
                        "3.2",
                        "4.7",
                        "1.4",
                        "1"
                      ],
                      [
                        "6.4",
                        "3.2",
                        "4.5",
                        "1.5",
                        "1"
                      ],
                      [
                        "6.9",
                        "3.1",
                        "4.9",
                        "1.5",
                        "1"
                      ],
                      [
                        "5.5",
                        "2.3",
                        "4.0",
                        "1.3",
                        "1"
                      ],
                      [
                        "6.5",
                        "2.8",
                        "4.6",
                        "1.5",
                        "1"
                      ],
                      [
                        "5.7",
                        "2.8",
                        "4.5",
                        "1.3",
                        "1"
                      ],
                      [
                        "6.3",
                        "3.3",
                        "4.7",
                        "1.6",
                        "1"
                      ],
                      [
                        "4.9",
                        "2.4",
                        "3.3",
                        "1.0",
                        "1"
                      ],
                      [
                        "6.6",
                        "2.9",
                        "4.6",
                        "1.3",
                        "1"
                      ],
                      [
                        "5.2",
                        "2.7",
                        "3.9",
                        "1.4",
                        "1"
                      ],
                      [
                        "5.0",
                        "2.0",
                        "3.5",
                        "1.0",
                        "1"
                      ],
                      [
                        "5.9",
                        "3.0",
                        "4.2",
                        "1.5",
                        "1"
                      ],
                      [
                        "6.0",
                        "2.2",
                        "4.0",
                        "1.0",
                        "1"
                      ],
                      [
                        "6.1",
                        "2.9",
                        "4.7",
                        "1.4",
                        "1"
                      ],
                      [
                        "5.6",
                        "2.9",
                        "3.6",
                        "1.3",
                        "1"
                      ],
                      [
                        "6.7",
                        "3.1",
                        "4.4",
                        "1.4",
                        "1"
                      ],
                      [
                        "5.6",
                        "3.0",
                        "4.5",
                        "1.5",
                        "1"
                      ],
                      [
                        "5.8",
                        "2.7",
                        "4.1",
                        "1.0",
                        "1"
                      ],
                      [
                        "6.2",
                        "2.2",
                        "4.5",
                        "1.5",
                        "1"
                      ],
                      [
                        "5.6",
                        "2.5",
                        "3.9",
                        "1.1",
                        "1"
                      ],
                      [
                        "5.9",
                        "3.2",
                        "4.8",
                        "1.8",
                        "1"
                      ],
                      [
                        "6.1",
                        "2.8",
                        "4.0",
                        "1.3",
                        "1"
                      ],
                      [
                        "6.3",
                        "2.5",
                        "4.9",
                        "1.5",
                        "1"
                      ],
                      [
                        "6.1",
                        "2.8",
                        "4.7",
                        "1.2",
                        "1"
                      ],
                      [
                        "6.4",
                        "2.9",
                        "4.3",
                        "1.3",
                        "1"
                      ],
                      [
                        "6.6",
                        "3.0",
                        "4.4",
                        "1.4",
                        "1"
                      ],
                      [
                        "6.8",
                        "2.8",
                        "4.8",
                        "1.4",
                        "1"
                      ],
                      [
                        "6.7",
                        "3.0",
                        "5.0",
                        "1.7",
                        "1"
                      ],
                      [
                        "6.0",
                        "2.9",
                        "4.5",
                        "1.5",
                        "1"
                      ],
                      [
                        "5.7",
                        "2.6",
                        "3.5",
                        "1.0",
                        "1"
                      ],
                      [
                        "5.5",
                        "2.4",
                        "3.8",
                        "1.1",
                        "1"
                      ],
                      [
                        "5.5",
                        "2.4",
                        "3.7",
                        "1.0",
                        "1"
                      ],
                      [
                        "5.8",
                        "2.7",
                        "3.9",
                        "1.2",
                        "1"
                      ],
                      [
                        "6.0",
                        "2.7",
                        "5.1",
                        "1.6",
                        "1"
                      ],
                      [
                        "5.4",
                        "3.0",
                        "4.5",
                        "1.5",
                        "1"
                      ],
                      [
                        "6.0",
                        "3.4",
                        "4.5",
                        "1.6",
                        "1"
                      ],
                      [
                        "6.7",
                        "3.1",
                        "4.7",
                        "1.5",
                        "1"
                      ],
                      [
                        "6.3",
                        "2.3",
                        "4.4",
                        "1.3",
                        "1"
                      ],
                      [
                        "5.6",
                        "3.0",
                        "4.1",
                        "1.3",
                        "1"
                      ],
                      [
                        "5.5",
                        "2.5",
                        "4.0",
                        "1.3",
                        "1"
                      ],
                      [
                        "5.5",
                        "2.6",
                        "4.4",
                        "1.2",
                        "1"
                      ],
                      [
                        "6.1",
                        "3.0",
                        "4.6",
                        "1.4",
                        "1"
                      ],
                      [
                        "5.8",
                        "2.6",
                        "4.0",
                        "1.2",
                        "1"
                      ],
                      [
                        "5.0",
                        "2.3",
                        "3.3",
                        "1.0",
                        "1"
                      ],
                      [
                        "5.6",
                        "2.7",
                        "4.2",
                        "1.3",
                        "1"
                      ],
                      [
                        "5.7",
                        "3.0",
                        "4.2",
                        "1.2",
                        "1"
                      ],
                      [
                        "5.7",
                        "2.9",
                        "4.2",
                        "1.3",
                        "1"
                      ],
                      [
                        "6.2",
                        "2.9",
                        "4.3",
                        "1.3",
                        "1"
                      ],
                      [
                        "5.1",
                        "2.5",
                        "3.0",
                        "1.1",
                        "1"
                      ],
                      [
                        "5.7",
                        "2.8",
                        "4.1",
                        "1.3",
                        "1"
                      ],
                      [
                        "6.3",
                        "3.3",
                        "6.0",
                        "2.5",
                        "2"
                      ],
                      [
                        "5.8",
                        "2.7",
                        "5.1",
                        "1.9",
                        "2"
                      ],
                      [
                        "7.1",
                        "3.0",
                        "5.9",
                        "2.1",
                        "2"
                      ],
                      [
                        "6.3",
                        "2.9",
                        "5.6",
                        "1.8",
                        "2"
                      ],
                      [
                        "6.5",
                        "3.0",
                        "5.8",
                        "2.2",
                        "2"
                      ],
                      [
                        "7.6",
                        "3.0",
                        "6.6",
                        "2.1",
                        "2"
                      ],
                      [
                        "4.9",
                        "2.5",
                        "4.5",
                        "1.7",
                        "2"
                      ],
                      [
                        "7.3",
                        "2.9",
                        "6.3",
                        "1.8",
                        "2"
                      ],
                      [
                        "6.7",
                        "2.5",
                        "5.8",
                        "1.8",
                        "2"
                      ],
                      [
                        "7.2",
                        "3.6",
                        "6.1",
                        "2.5",
                        "2"
                      ],
                      [
                        "6.5",
                        "3.2",
                        "5.1",
                        "2.0",
                        "2"
                      ],
                      [
                        "6.4",
                        "2.7",
                        "5.3",
                        "1.9",
                        "2"
                      ],
                      [
                        "6.8",
                        "3.0",
                        "5.5",
                        "2.1",
                        "2"
                      ],
                      [
                        "5.7",
                        "2.5",
                        "5.0",
                        "2.0",
                        "2"
                      ],
                      [
                        "5.8",
                        "2.8",
                        "5.1",
                        "2.4",
                        "2"
                      ],
                      [
                        "6.4",
                        "3.2",
                        "5.3",
                        "2.3",
                        "2"
                      ],
                      [
                        "6.5",
                        "3.0",
                        "5.5",
                        "1.8",
                        "2"
                      ],
                      [
                        "7.7",
                        "3.8",
                        "6.7",
                        "2.2",
                        "2"
                      ],
                      [
                        "7.7",
                        "2.6",
                        "6.9",
                        "2.3",
                        "2"
                      ],
                      [
                        "6.0",
                        "2.2",
                        "5.0",
                        "1.5",
                        "2"
                      ],
                      [
                        "6.9",
                        "3.2",
                        "5.7",
                        "2.3",
                        "2"
                      ],
                      [
                        "5.6",
                        "2.8",
                        "4.9",
                        "2.0",
                        "2"
                      ],
                      [
                        "7.7",
                        "2.8",
                        "6.7",
                        "2.0",
                        "2"
                      ],
                      [
                        "6.3",
                        "2.7",
                        "4.9",
                        "1.8",
                        "2"
                      ],
                      [
                        "6.7",
                        "3.3",
                        "5.7",
                        "2.1",
                        "2"
                      ],
                      [
                        "7.2",
                        "3.2",
                        "6.0",
                        "1.8",
                        "2"
                      ],
                      [
                        "6.2",
                        "2.8",
                        "4.8",
                        "1.8",
                        "2"
                      ],
                      [
                        "6.1",
                        "3.0",
                        "4.9",
                        "1.8",
                        "2"
                      ],
                      [
                        "6.4",
                        "2.8",
                        "5.6",
                        "2.1",
                        "2"
                      ],
                      [
                        "7.2",
                        "3.0",
                        "5.8",
                        "1.6",
                        "2"
                      ],
                      [
                        "7.4",
                        "2.8",
                        "6.1",
                        "1.9",
                        "2"
                      ],
                      [
                        "7.9",
                        "3.8",
                        "6.4",
                        "2.0",
                        "2"
                      ],
                      [
                        "6.4",
                        "2.8",
                        "5.6",
                        "2.2",
                        "2"
                      ],
                      [
                        "6.3",
                        "2.8",
                        "5.1",
                        "1.5",
                        "2"
                      ],
                      [
                        "6.1",
                        "2.6",
                        "5.6",
                        "1.4",
                        "2"
                      ],
                      [
                        "7.7",
                        "3.0",
                        "6.1",
                        "2.3",
                        "2"
                      ],
                      [
                        "6.3",
                        "3.4",
                        "5.6",
                        "2.4",
                        "2"
                      ],
                      [
                        "6.4",
                        "3.1",
                        "5.5",
                        "1.8",
                        "2"
                      ],
                      [
                        "6.0",
                        "3.0",
                        "4.8",
                        "1.8",
                        "2"
                      ],
                      [
                        "6.9",
                        "3.1",
                        "5.4",
                        "2.1",
                        "2"
                      ],
                      [
                        "6.7",
                        "3.1",
                        "5.6",
                        "2.4",
                        "2"
                      ],
                      [
                        "6.9",
                        "3.1",
                        "5.1",
                        "2.3",
                        "2"
                      ],
                      [
                        "5.8",
                        "2.7",
                        "5.1",
                        "1.9",
                        "2"
                      ],
                      [
                        "6.8",
                        "3.2",
                        "5.9",
                        "2.3",
                        "2"
                      ],
                      [
                        "6.7",
                        "3.3",
                        "5.7",
                        "2.5",
                        "2"
                      ],
                      [
                        "6.7",
                        "3.0",
                        "5.2",
                        "2.3",
                        "2"
                      ],
                      [
                        "6.3",
                        "2.5",
                        "5.0",
                        "1.9",
                        "2"
                      ],
                      [
                        "6.5",
                        "3.0",
                        "5.2",
                        "2.0",
                        "2"
                      ],
                      [
                        "6.2",
                        "3.4",
                        "5.4",
                        "2.3",
                        "2"
                      ],
                      [
                        "5.9",
                        "3.0",
                        "5.1",
                        "1.8",
                        "2"
                      ]
                    ]
                  }
                ]
              }
            },
            "_embedded": true,
            "_event_data": {
              "event_name": "rendered",
              "event_details": null
            },
            "_init_error": "",
            "_model_module": "powerbi-jupyter-client",
            "_model_module_version": "3.1.1",
            "_model_name": "QuickVisualizeModel",
            "_saved_report_id": "",
            "_token_expired": false,
            "_view_count": null,
            "_view_module": "powerbi-jupyter-client",
            "_view_module_version": "3.1.1",
            "_view_name": "QuickVisualizeView",
            "container_height": 0,
            "container_width": 0,
            "layout": "IPY_MODEL_fe681957610a41cb8cfda2c803ef7acd"
          }
        },
        "fe681957610a41cb8cfda2c803ef7acd": {
          "model_module": "@jupyter-widgets/base",
          "model_name": "LayoutModel",
          "model_module_version": "1.2.0",
          "state": {
            "_model_module": "@jupyter-widgets/base",
            "_model_module_version": "1.2.0",
            "_model_name": "LayoutModel",
            "_view_count": null,
            "_view_module": "@jupyter-widgets/base",
            "_view_module_version": "1.2.0",
            "_view_name": "LayoutView",
            "align_content": null,
            "align_items": null,
            "align_self": null,
            "border": null,
            "bottom": null,
            "display": null,
            "flex": null,
            "flex_flow": null,
            "grid_area": null,
            "grid_auto_columns": null,
            "grid_auto_flow": null,
            "grid_auto_rows": null,
            "grid_column": null,
            "grid_gap": null,
            "grid_row": null,
            "grid_template_areas": null,
            "grid_template_columns": null,
            "grid_template_rows": null,
            "height": null,
            "justify_content": null,
            "justify_items": null,
            "left": null,
            "margin": null,
            "max_height": null,
            "max_width": null,
            "min_height": null,
            "min_width": null,
            "object_fit": null,
            "object_position": null,
            "order": null,
            "overflow": null,
            "overflow_x": null,
            "overflow_y": null,
            "padding": null,
            "right": null,
            "top": null,
            "visibility": null,
            "width": null
          }
        }
      }
    }
  },
  "cells": [
    {
      "cell_type": "markdown",
      "metadata": {
        "id": "view-in-github",
        "colab_type": "text"
      },
      "source": [
        "<a href=\"https://colab.research.google.com/github/JenniferSRichart/Python_en_PowerBI/blob/main/QuickVisualize_PowerBI.ipynb\" target=\"_parent\"><img src=\"https://colab.research.google.com/assets/colab-badge.svg\" alt=\"Open In Colab\"/></a>"
      ]
    },
    {
      "cell_type": "code",
      "source": [
        "pip install pandas"
      ],
      "metadata": {
        "colab": {
          "base_uri": "https://localhost:8080/"
        },
        "id": "-9S301R63MTM",
        "outputId": "777ed6d6-0e34-4130-cf26-f6a8720a30dd"
      },
      "execution_count": 15,
      "outputs": [
        {
          "output_type": "stream",
          "name": "stdout",
          "text": [
            "Requirement already satisfied: pandas in /usr/local/lib/python3.10/dist-packages (1.5.3)\n",
            "Requirement already satisfied: python-dateutil>=2.8.1 in /usr/local/lib/python3.10/dist-packages (from pandas) (2.8.2)\n",
            "Requirement already satisfied: pytz>=2020.1 in /usr/local/lib/python3.10/dist-packages (from pandas) (2023.4)\n",
            "Requirement already satisfied: numpy>=1.21.0 in /usr/local/lib/python3.10/dist-packages (from pandas) (1.25.2)\n",
            "Requirement already satisfied: six>=1.5 in /usr/local/lib/python3.10/dist-packages (from python-dateutil>=2.8.1->pandas) (1.16.0)\n"
          ]
        }
      ]
    },
    {
      "cell_type": "code",
      "source": [
        "pip install powerbiclient"
      ],
      "metadata": {
        "colab": {
          "base_uri": "https://localhost:8080/"
        },
        "id": "ZPc8eyY-6MD0",
        "outputId": "24e967b6-2eb9-472b-8230-1af43a1f5b19"
      },
      "execution_count": 18,
      "outputs": [
        {
          "output_type": "stream",
          "name": "stdout",
          "text": [
            "Collecting powerbiclient\n",
            "  Downloading powerbiclient-3.1.1-py2.py3-none-any.whl (684 kB)\n",
            "\u001b[?25l     \u001b[90m━━━━━━━━━━━━━━━━━━━━━━━━━━━━━━━━━━━━━━━━\u001b[0m \u001b[32m0.0/684.9 kB\u001b[0m \u001b[31m?\u001b[0m eta \u001b[36m-:--:--\u001b[0m\r\u001b[2K     \u001b[91m━━━━━━━━\u001b[0m\u001b[90m╺\u001b[0m\u001b[90m━━━━━━━━━━━━━━━━━━━━━━━━━━━━━━━\u001b[0m \u001b[32m143.4/684.9 kB\u001b[0m \u001b[31m4.2 MB/s\u001b[0m eta \u001b[36m0:00:01\u001b[0m\r\u001b[2K     \u001b[91m━━━━━━━━━━━━━━━━━━━━━━━━━━━━\u001b[0m\u001b[90m╺\u001b[0m\u001b[90m━━━━━━━━━━━\u001b[0m \u001b[32m481.3/684.9 kB\u001b[0m \u001b[31m7.0 MB/s\u001b[0m eta \u001b[36m0:00:01\u001b[0m\r\u001b[2K     \u001b[90m━━━━━━━━━━━━━━━━━━━━━━━━━━━━━━━━━━━━━━━━\u001b[0m \u001b[32m684.9/684.9 kB\u001b[0m \u001b[31m7.0 MB/s\u001b[0m eta \u001b[36m0:00:00\u001b[0m\n",
            "\u001b[?25hRequirement already satisfied: ipywidgets>=7.0.0 in /usr/local/lib/python3.10/dist-packages (from powerbiclient) (7.7.1)\n",
            "Collecting jupyter-ui-poll>=0.1.2 (from powerbiclient)\n",
            "  Downloading jupyter_ui_poll-0.2.2-py2.py3-none-any.whl (9.0 kB)\n",
            "Collecting msal>=1.8.0 (from powerbiclient)\n",
            "  Downloading msal-1.27.0-py2.py3-none-any.whl (101 kB)\n",
            "\u001b[2K     \u001b[90m━━━━━━━━━━━━━━━━━━━━━━━━━━━━━━━━━━━━━━━━\u001b[0m \u001b[32m101.5/101.5 kB\u001b[0m \u001b[31m10.3 MB/s\u001b[0m eta \u001b[36m0:00:00\u001b[0m\n",
            "\u001b[?25hRequirement already satisfied: requests>=2.25.1 in /usr/local/lib/python3.10/dist-packages (from powerbiclient) (2.31.0)\n",
            "Requirement already satisfied: pandas in /usr/local/lib/python3.10/dist-packages (from powerbiclient) (1.5.3)\n",
            "Collecting pyspark (from powerbiclient)\n",
            "  Downloading pyspark-3.5.1.tar.gz (317.0 MB)\n",
            "\u001b[2K     \u001b[90m━━━━━━━━━━━━━━━━━━━━━━━━━━━━━━━━━━━━━━━━\u001b[0m \u001b[32m317.0/317.0 MB\u001b[0m \u001b[31m3.5 MB/s\u001b[0m eta \u001b[36m0:00:00\u001b[0m\n",
            "\u001b[?25h  Preparing metadata (setup.py) ... \u001b[?25l\u001b[?25hdone\n",
            "Requirement already satisfied: ipykernel>=4.5.1 in /usr/local/lib/python3.10/dist-packages (from ipywidgets>=7.0.0->powerbiclient) (5.5.6)\n",
            "Requirement already satisfied: ipython-genutils~=0.2.0 in /usr/local/lib/python3.10/dist-packages (from ipywidgets>=7.0.0->powerbiclient) (0.2.0)\n",
            "Requirement already satisfied: traitlets>=4.3.1 in /usr/local/lib/python3.10/dist-packages (from ipywidgets>=7.0.0->powerbiclient) (5.7.1)\n",
            "Requirement already satisfied: widgetsnbextension~=3.6.0 in /usr/local/lib/python3.10/dist-packages (from ipywidgets>=7.0.0->powerbiclient) (3.6.6)\n",
            "Requirement already satisfied: ipython>=4.0.0 in /usr/local/lib/python3.10/dist-packages (from ipywidgets>=7.0.0->powerbiclient) (7.34.0)\n",
            "Requirement already satisfied: jupyterlab-widgets>=1.0.0 in /usr/local/lib/python3.10/dist-packages (from ipywidgets>=7.0.0->powerbiclient) (3.0.10)\n",
            "Requirement already satisfied: PyJWT[crypto]<3,>=1.0.0 in /usr/lib/python3/dist-packages (from msal>=1.8.0->powerbiclient) (2.3.0)\n",
            "Requirement already satisfied: cryptography<45,>=0.6 in /usr/local/lib/python3.10/dist-packages (from msal>=1.8.0->powerbiclient) (42.0.5)\n",
            "Requirement already satisfied: charset-normalizer<4,>=2 in /usr/local/lib/python3.10/dist-packages (from requests>=2.25.1->powerbiclient) (3.3.2)\n",
            "Requirement already satisfied: idna<4,>=2.5 in /usr/local/lib/python3.10/dist-packages (from requests>=2.25.1->powerbiclient) (3.6)\n",
            "Requirement already satisfied: urllib3<3,>=1.21.1 in /usr/local/lib/python3.10/dist-packages (from requests>=2.25.1->powerbiclient) (2.0.7)\n",
            "Requirement already satisfied: certifi>=2017.4.17 in /usr/local/lib/python3.10/dist-packages (from requests>=2.25.1->powerbiclient) (2024.2.2)\n",
            "Requirement already satisfied: python-dateutil>=2.8.1 in /usr/local/lib/python3.10/dist-packages (from pandas->powerbiclient) (2.8.2)\n",
            "Requirement already satisfied: pytz>=2020.1 in /usr/local/lib/python3.10/dist-packages (from pandas->powerbiclient) (2023.4)\n",
            "Requirement already satisfied: numpy>=1.21.0 in /usr/local/lib/python3.10/dist-packages (from pandas->powerbiclient) (1.25.2)\n",
            "Requirement already satisfied: py4j==0.10.9.7 in /usr/local/lib/python3.10/dist-packages (from pyspark->powerbiclient) (0.10.9.7)\n",
            "Requirement already satisfied: cffi>=1.12 in /usr/local/lib/python3.10/dist-packages (from cryptography<45,>=0.6->msal>=1.8.0->powerbiclient) (1.16.0)\n",
            "Requirement already satisfied: jupyter-client in /usr/local/lib/python3.10/dist-packages (from ipykernel>=4.5.1->ipywidgets>=7.0.0->powerbiclient) (6.1.12)\n",
            "Requirement already satisfied: tornado>=4.2 in /usr/local/lib/python3.10/dist-packages (from ipykernel>=4.5.1->ipywidgets>=7.0.0->powerbiclient) (6.3.3)\n",
            "Requirement already satisfied: setuptools>=18.5 in /usr/local/lib/python3.10/dist-packages (from ipython>=4.0.0->ipywidgets>=7.0.0->powerbiclient) (67.7.2)\n",
            "Collecting jedi>=0.16 (from ipython>=4.0.0->ipywidgets>=7.0.0->powerbiclient)\n",
            "  Downloading jedi-0.19.1-py2.py3-none-any.whl (1.6 MB)\n",
            "\u001b[2K     \u001b[90m━━━━━━━━━━━━━━━━━━━━━━━━━━━━━━━━━━━━━━━━\u001b[0m \u001b[32m1.6/1.6 MB\u001b[0m \u001b[31m76.1 MB/s\u001b[0m eta \u001b[36m0:00:00\u001b[0m\n",
            "\u001b[?25hRequirement already satisfied: decorator in /usr/local/lib/python3.10/dist-packages (from ipython>=4.0.0->ipywidgets>=7.0.0->powerbiclient) (4.4.2)\n",
            "Requirement already satisfied: pickleshare in /usr/local/lib/python3.10/dist-packages (from ipython>=4.0.0->ipywidgets>=7.0.0->powerbiclient) (0.7.5)\n",
            "Requirement already satisfied: prompt-toolkit!=3.0.0,!=3.0.1,<3.1.0,>=2.0.0 in /usr/local/lib/python3.10/dist-packages (from ipython>=4.0.0->ipywidgets>=7.0.0->powerbiclient) (3.0.43)\n",
            "Requirement already satisfied: pygments in /usr/local/lib/python3.10/dist-packages (from ipython>=4.0.0->ipywidgets>=7.0.0->powerbiclient) (2.16.1)\n",
            "Requirement already satisfied: backcall in /usr/local/lib/python3.10/dist-packages (from ipython>=4.0.0->ipywidgets>=7.0.0->powerbiclient) (0.2.0)\n",
            "Requirement already satisfied: matplotlib-inline in /usr/local/lib/python3.10/dist-packages (from ipython>=4.0.0->ipywidgets>=7.0.0->powerbiclient) (0.1.6)\n",
            "Requirement already satisfied: pexpect>4.3 in /usr/local/lib/python3.10/dist-packages (from ipython>=4.0.0->ipywidgets>=7.0.0->powerbiclient) (4.9.0)\n",
            "Requirement already satisfied: six>=1.5 in /usr/local/lib/python3.10/dist-packages (from python-dateutil>=2.8.1->pandas->powerbiclient) (1.16.0)\n",
            "Requirement already satisfied: notebook>=4.4.1 in /usr/local/lib/python3.10/dist-packages (from widgetsnbextension~=3.6.0->ipywidgets>=7.0.0->powerbiclient) (6.5.5)\n",
            "Requirement already satisfied: pycparser in /usr/local/lib/python3.10/dist-packages (from cffi>=1.12->cryptography<45,>=0.6->msal>=1.8.0->powerbiclient) (2.21)\n",
            "Requirement already satisfied: parso<0.9.0,>=0.8.3 in /usr/local/lib/python3.10/dist-packages (from jedi>=0.16->ipython>=4.0.0->ipywidgets>=7.0.0->powerbiclient) (0.8.3)\n",
            "Requirement already satisfied: jinja2 in /usr/local/lib/python3.10/dist-packages (from notebook>=4.4.1->widgetsnbextension~=3.6.0->ipywidgets>=7.0.0->powerbiclient) (3.1.3)\n",
            "Requirement already satisfied: pyzmq<25,>=17 in /usr/local/lib/python3.10/dist-packages (from notebook>=4.4.1->widgetsnbextension~=3.6.0->ipywidgets>=7.0.0->powerbiclient) (23.2.1)\n",
            "Requirement already satisfied: argon2-cffi in /usr/local/lib/python3.10/dist-packages (from notebook>=4.4.1->widgetsnbextension~=3.6.0->ipywidgets>=7.0.0->powerbiclient) (23.1.0)\n",
            "Requirement already satisfied: jupyter-core>=4.6.1 in /usr/local/lib/python3.10/dist-packages (from notebook>=4.4.1->widgetsnbextension~=3.6.0->ipywidgets>=7.0.0->powerbiclient) (5.7.1)\n",
            "Requirement already satisfied: nbformat in /usr/local/lib/python3.10/dist-packages (from notebook>=4.4.1->widgetsnbextension~=3.6.0->ipywidgets>=7.0.0->powerbiclient) (5.9.2)\n",
            "Requirement already satisfied: nbconvert>=5 in /usr/local/lib/python3.10/dist-packages (from notebook>=4.4.1->widgetsnbextension~=3.6.0->ipywidgets>=7.0.0->powerbiclient) (6.5.4)\n",
            "Requirement already satisfied: nest-asyncio>=1.5 in /usr/local/lib/python3.10/dist-packages (from notebook>=4.4.1->widgetsnbextension~=3.6.0->ipywidgets>=7.0.0->powerbiclient) (1.6.0)\n",
            "Requirement already satisfied: Send2Trash>=1.8.0 in /usr/local/lib/python3.10/dist-packages (from notebook>=4.4.1->widgetsnbextension~=3.6.0->ipywidgets>=7.0.0->powerbiclient) (1.8.2)\n",
            "Requirement already satisfied: terminado>=0.8.3 in /usr/local/lib/python3.10/dist-packages (from notebook>=4.4.1->widgetsnbextension~=3.6.0->ipywidgets>=7.0.0->powerbiclient) (0.18.0)\n",
            "Requirement already satisfied: prometheus-client in /usr/local/lib/python3.10/dist-packages (from notebook>=4.4.1->widgetsnbextension~=3.6.0->ipywidgets>=7.0.0->powerbiclient) (0.20.0)\n",
            "Requirement already satisfied: nbclassic>=0.4.7 in /usr/local/lib/python3.10/dist-packages (from notebook>=4.4.1->widgetsnbextension~=3.6.0->ipywidgets>=7.0.0->powerbiclient) (1.0.0)\n",
            "Requirement already satisfied: ptyprocess>=0.5 in /usr/local/lib/python3.10/dist-packages (from pexpect>4.3->ipython>=4.0.0->ipywidgets>=7.0.0->powerbiclient) (0.7.0)\n",
            "Requirement already satisfied: wcwidth in /usr/local/lib/python3.10/dist-packages (from prompt-toolkit!=3.0.0,!=3.0.1,<3.1.0,>=2.0.0->ipython>=4.0.0->ipywidgets>=7.0.0->powerbiclient) (0.2.13)\n",
            "Requirement already satisfied: platformdirs>=2.5 in /usr/local/lib/python3.10/dist-packages (from jupyter-core>=4.6.1->notebook>=4.4.1->widgetsnbextension~=3.6.0->ipywidgets>=7.0.0->powerbiclient) (4.2.0)\n",
            "Requirement already satisfied: jupyter-server>=1.8 in /usr/local/lib/python3.10/dist-packages (from nbclassic>=0.4.7->notebook>=4.4.1->widgetsnbextension~=3.6.0->ipywidgets>=7.0.0->powerbiclient) (1.24.0)\n",
            "Requirement already satisfied: notebook-shim>=0.2.3 in /usr/local/lib/python3.10/dist-packages (from nbclassic>=0.4.7->notebook>=4.4.1->widgetsnbextension~=3.6.0->ipywidgets>=7.0.0->powerbiclient) (0.2.4)\n",
            "Requirement already satisfied: lxml in /usr/local/lib/python3.10/dist-packages (from nbconvert>=5->notebook>=4.4.1->widgetsnbextension~=3.6.0->ipywidgets>=7.0.0->powerbiclient) (4.9.4)\n",
            "Requirement already satisfied: beautifulsoup4 in /usr/local/lib/python3.10/dist-packages (from nbconvert>=5->notebook>=4.4.1->widgetsnbextension~=3.6.0->ipywidgets>=7.0.0->powerbiclient) (4.12.3)\n",
            "Requirement already satisfied: bleach in /usr/local/lib/python3.10/dist-packages (from nbconvert>=5->notebook>=4.4.1->widgetsnbextension~=3.6.0->ipywidgets>=7.0.0->powerbiclient) (6.1.0)\n",
            "Requirement already satisfied: defusedxml in /usr/local/lib/python3.10/dist-packages (from nbconvert>=5->notebook>=4.4.1->widgetsnbextension~=3.6.0->ipywidgets>=7.0.0->powerbiclient) (0.7.1)\n",
            "Requirement already satisfied: entrypoints>=0.2.2 in /usr/local/lib/python3.10/dist-packages (from nbconvert>=5->notebook>=4.4.1->widgetsnbextension~=3.6.0->ipywidgets>=7.0.0->powerbiclient) (0.4)\n",
            "Requirement already satisfied: jupyterlab-pygments in /usr/local/lib/python3.10/dist-packages (from nbconvert>=5->notebook>=4.4.1->widgetsnbextension~=3.6.0->ipywidgets>=7.0.0->powerbiclient) (0.3.0)\n",
            "Requirement already satisfied: MarkupSafe>=2.0 in /usr/local/lib/python3.10/dist-packages (from nbconvert>=5->notebook>=4.4.1->widgetsnbextension~=3.6.0->ipywidgets>=7.0.0->powerbiclient) (2.1.5)\n",
            "Requirement already satisfied: mistune<2,>=0.8.1 in /usr/local/lib/python3.10/dist-packages (from nbconvert>=5->notebook>=4.4.1->widgetsnbextension~=3.6.0->ipywidgets>=7.0.0->powerbiclient) (0.8.4)\n",
            "Requirement already satisfied: nbclient>=0.5.0 in /usr/local/lib/python3.10/dist-packages (from nbconvert>=5->notebook>=4.4.1->widgetsnbextension~=3.6.0->ipywidgets>=7.0.0->powerbiclient) (0.9.0)\n",
            "Requirement already satisfied: packaging in /usr/local/lib/python3.10/dist-packages (from nbconvert>=5->notebook>=4.4.1->widgetsnbextension~=3.6.0->ipywidgets>=7.0.0->powerbiclient) (23.2)\n",
            "Requirement already satisfied: pandocfilters>=1.4.1 in /usr/local/lib/python3.10/dist-packages (from nbconvert>=5->notebook>=4.4.1->widgetsnbextension~=3.6.0->ipywidgets>=7.0.0->powerbiclient) (1.5.1)\n",
            "Requirement already satisfied: tinycss2 in /usr/local/lib/python3.10/dist-packages (from nbconvert>=5->notebook>=4.4.1->widgetsnbextension~=3.6.0->ipywidgets>=7.0.0->powerbiclient) (1.2.1)\n",
            "Requirement already satisfied: fastjsonschema in /usr/local/lib/python3.10/dist-packages (from nbformat->notebook>=4.4.1->widgetsnbextension~=3.6.0->ipywidgets>=7.0.0->powerbiclient) (2.19.1)\n",
            "Requirement already satisfied: jsonschema>=2.6 in /usr/local/lib/python3.10/dist-packages (from nbformat->notebook>=4.4.1->widgetsnbextension~=3.6.0->ipywidgets>=7.0.0->powerbiclient) (4.19.2)\n",
            "Requirement already satisfied: argon2-cffi-bindings in /usr/local/lib/python3.10/dist-packages (from argon2-cffi->notebook>=4.4.1->widgetsnbextension~=3.6.0->ipywidgets>=7.0.0->powerbiclient) (21.2.0)\n",
            "Requirement already satisfied: attrs>=22.2.0 in /usr/local/lib/python3.10/dist-packages (from jsonschema>=2.6->nbformat->notebook>=4.4.1->widgetsnbextension~=3.6.0->ipywidgets>=7.0.0->powerbiclient) (23.2.0)\n",
            "Requirement already satisfied: jsonschema-specifications>=2023.03.6 in /usr/local/lib/python3.10/dist-packages (from jsonschema>=2.6->nbformat->notebook>=4.4.1->widgetsnbextension~=3.6.0->ipywidgets>=7.0.0->powerbiclient) (2023.12.1)\n",
            "Requirement already satisfied: referencing>=0.28.4 in /usr/local/lib/python3.10/dist-packages (from jsonschema>=2.6->nbformat->notebook>=4.4.1->widgetsnbextension~=3.6.0->ipywidgets>=7.0.0->powerbiclient) (0.33.0)\n",
            "Requirement already satisfied: rpds-py>=0.7.1 in /usr/local/lib/python3.10/dist-packages (from jsonschema>=2.6->nbformat->notebook>=4.4.1->widgetsnbextension~=3.6.0->ipywidgets>=7.0.0->powerbiclient) (0.18.0)\n",
            "Requirement already satisfied: anyio<4,>=3.1.0 in /usr/local/lib/python3.10/dist-packages (from jupyter-server>=1.8->nbclassic>=0.4.7->notebook>=4.4.1->widgetsnbextension~=3.6.0->ipywidgets>=7.0.0->powerbiclient) (3.7.1)\n",
            "Requirement already satisfied: websocket-client in /usr/local/lib/python3.10/dist-packages (from jupyter-server>=1.8->nbclassic>=0.4.7->notebook>=4.4.1->widgetsnbextension~=3.6.0->ipywidgets>=7.0.0->powerbiclient) (1.7.0)\n",
            "Requirement already satisfied: soupsieve>1.2 in /usr/local/lib/python3.10/dist-packages (from beautifulsoup4->nbconvert>=5->notebook>=4.4.1->widgetsnbextension~=3.6.0->ipywidgets>=7.0.0->powerbiclient) (2.5)\n",
            "Requirement already satisfied: webencodings in /usr/local/lib/python3.10/dist-packages (from bleach->nbconvert>=5->notebook>=4.4.1->widgetsnbextension~=3.6.0->ipywidgets>=7.0.0->powerbiclient) (0.5.1)\n",
            "Requirement already satisfied: sniffio>=1.1 in /usr/local/lib/python3.10/dist-packages (from anyio<4,>=3.1.0->jupyter-server>=1.8->nbclassic>=0.4.7->notebook>=4.4.1->widgetsnbextension~=3.6.0->ipywidgets>=7.0.0->powerbiclient) (1.3.1)\n",
            "Requirement already satisfied: exceptiongroup in /usr/local/lib/python3.10/dist-packages (from anyio<4,>=3.1.0->jupyter-server>=1.8->nbclassic>=0.4.7->notebook>=4.4.1->widgetsnbextension~=3.6.0->ipywidgets>=7.0.0->powerbiclient) (1.2.0)\n",
            "Building wheels for collected packages: pyspark\n",
            "  Building wheel for pyspark (setup.py) ... \u001b[?25l\u001b[?25hdone\n",
            "  Created wheel for pyspark: filename=pyspark-3.5.1-py2.py3-none-any.whl size=317488493 sha256=6fbf31f46b390d4645c5ae00d9d31540b76244b74ef823eb11ef9c1fee1f459a\n",
            "  Stored in directory: /root/.cache/pip/wheels/80/1d/60/2c256ed38dddce2fdd93be545214a63e02fbd8d74fb0b7f3a6\n",
            "Successfully built pyspark\n",
            "Installing collected packages: pyspark, jedi, jupyter-ui-poll, msal, powerbiclient\n",
            "Successfully installed jedi-0.19.1 jupyter-ui-poll-0.2.2 msal-1.27.0 powerbiclient-3.1.1 pyspark-3.5.1\n"
          ]
        }
      ]
    },
    {
      "cell_type": "code",
      "source": [
        "import pandas as pd\n"
      ],
      "metadata": {
        "id": "DGYczhVC2Meb"
      },
      "execution_count": 20,
      "outputs": []
    },
    {
      "cell_type": "code",
      "source": [
        "from powerbiclient.authentication import DeviceCodeLoginAuthentication\n",
        "\n",
        "# Inicia la autenticación del dispositivo\n",
        "device_auth = DeviceCodeLoginAuthentication()"
      ],
      "metadata": {
        "colab": {
          "base_uri": "https://localhost:8080/"
        },
        "id": "Fl6y-k0B9Zoa",
        "outputId": "43ec5a99-455f-47b5-e65e-99115aa58f87"
      },
      "execution_count": 27,
      "outputs": [
        {
          "output_type": "stream",
          "name": "stdout",
          "text": [
            "Performing device flow authentication. Please follow the instructions below.\n",
            "To sign in, use a web browser to open the page https://microsoft.com/devicelogin and enter the code HXM5575K8 to authenticate.\n",
            "\n",
            "Device flow authentication successfully completed.\n",
            "You are now logged in .\n",
            "\n",
            "The result should be passed only to trusted code in your notebook.\n"
          ]
        }
      ]
    },
    {
      "cell_type": "code",
      "source": [
        "from powerbiclient import QuickVisualize, get_dataset_config\n"
      ],
      "metadata": {
        "id": "SLQbUiMh8ibm"
      },
      "execution_count": 44,
      "outputs": []
    },
    {
      "cell_type": "code",
      "source": [
        "from sklearn.datasets import load_iris\n",
        "import pandas as pd\n",
        "\n",
        "# Cargar la base de datos \"iris\"\n",
        "iris = load_iris()\n",
        "\n",
        "# Crear un DataFrame de pandas con los datos y las etiquetas\n",
        "df = pd.DataFrame(data=iris.data, columns=iris.feature_names)\n",
        "df['target'] = iris.target"
      ],
      "metadata": {
        "id": "7kzHv9wn-gc1"
      },
      "execution_count": 38,
      "outputs": []
    },
    {
      "cell_type": "code",
      "source": [
        "df"
      ],
      "metadata": {
        "colab": {
          "base_uri": "https://localhost:8080/",
          "height": 419
        },
        "id": "yqFxUQsRAoF4",
        "outputId": "a07cf8a0-55da-4852-ee58-a53e2d4739c1"
      },
      "execution_count": 43,
      "outputs": [
        {
          "output_type": "execute_result",
          "data": {
            "text/plain": [
              "     sepal length (cm)  sepal width (cm)  petal length (cm)  petal width (cm)  \\\n",
              "0                  5.1               3.5                1.4               0.2   \n",
              "1                  4.9               3.0                1.4               0.2   \n",
              "2                  4.7               3.2                1.3               0.2   \n",
              "3                  4.6               3.1                1.5               0.2   \n",
              "4                  5.0               3.6                1.4               0.2   \n",
              "..                 ...               ...                ...               ...   \n",
              "145                6.7               3.0                5.2               2.3   \n",
              "146                6.3               2.5                5.0               1.9   \n",
              "147                6.5               3.0                5.2               2.0   \n",
              "148                6.2               3.4                5.4               2.3   \n",
              "149                5.9               3.0                5.1               1.8   \n",
              "\n",
              "     target  \n",
              "0         0  \n",
              "1         0  \n",
              "2         0  \n",
              "3         0  \n",
              "4         0  \n",
              "..      ...  \n",
              "145       2  \n",
              "146       2  \n",
              "147       2  \n",
              "148       2  \n",
              "149       2  \n",
              "\n",
              "[150 rows x 5 columns]"
            ],
            "text/html": [
              "\n",
              "  <div id=\"df-d24192e6-ea02-4922-a196-218837369e2f\" class=\"colab-df-container\">\n",
              "    <div>\n",
              "<style scoped>\n",
              "    .dataframe tbody tr th:only-of-type {\n",
              "        vertical-align: middle;\n",
              "    }\n",
              "\n",
              "    .dataframe tbody tr th {\n",
              "        vertical-align: top;\n",
              "    }\n",
              "\n",
              "    .dataframe thead th {\n",
              "        text-align: right;\n",
              "    }\n",
              "</style>\n",
              "<table border=\"1\" class=\"dataframe\">\n",
              "  <thead>\n",
              "    <tr style=\"text-align: right;\">\n",
              "      <th></th>\n",
              "      <th>sepal length (cm)</th>\n",
              "      <th>sepal width (cm)</th>\n",
              "      <th>petal length (cm)</th>\n",
              "      <th>petal width (cm)</th>\n",
              "      <th>target</th>\n",
              "    </tr>\n",
              "  </thead>\n",
              "  <tbody>\n",
              "    <tr>\n",
              "      <th>0</th>\n",
              "      <td>5.1</td>\n",
              "      <td>3.5</td>\n",
              "      <td>1.4</td>\n",
              "      <td>0.2</td>\n",
              "      <td>0</td>\n",
              "    </tr>\n",
              "    <tr>\n",
              "      <th>1</th>\n",
              "      <td>4.9</td>\n",
              "      <td>3.0</td>\n",
              "      <td>1.4</td>\n",
              "      <td>0.2</td>\n",
              "      <td>0</td>\n",
              "    </tr>\n",
              "    <tr>\n",
              "      <th>2</th>\n",
              "      <td>4.7</td>\n",
              "      <td>3.2</td>\n",
              "      <td>1.3</td>\n",
              "      <td>0.2</td>\n",
              "      <td>0</td>\n",
              "    </tr>\n",
              "    <tr>\n",
              "      <th>3</th>\n",
              "      <td>4.6</td>\n",
              "      <td>3.1</td>\n",
              "      <td>1.5</td>\n",
              "      <td>0.2</td>\n",
              "      <td>0</td>\n",
              "    </tr>\n",
              "    <tr>\n",
              "      <th>4</th>\n",
              "      <td>5.0</td>\n",
              "      <td>3.6</td>\n",
              "      <td>1.4</td>\n",
              "      <td>0.2</td>\n",
              "      <td>0</td>\n",
              "    </tr>\n",
              "    <tr>\n",
              "      <th>...</th>\n",
              "      <td>...</td>\n",
              "      <td>...</td>\n",
              "      <td>...</td>\n",
              "      <td>...</td>\n",
              "      <td>...</td>\n",
              "    </tr>\n",
              "    <tr>\n",
              "      <th>145</th>\n",
              "      <td>6.7</td>\n",
              "      <td>3.0</td>\n",
              "      <td>5.2</td>\n",
              "      <td>2.3</td>\n",
              "      <td>2</td>\n",
              "    </tr>\n",
              "    <tr>\n",
              "      <th>146</th>\n",
              "      <td>6.3</td>\n",
              "      <td>2.5</td>\n",
              "      <td>5.0</td>\n",
              "      <td>1.9</td>\n",
              "      <td>2</td>\n",
              "    </tr>\n",
              "    <tr>\n",
              "      <th>147</th>\n",
              "      <td>6.5</td>\n",
              "      <td>3.0</td>\n",
              "      <td>5.2</td>\n",
              "      <td>2.0</td>\n",
              "      <td>2</td>\n",
              "    </tr>\n",
              "    <tr>\n",
              "      <th>148</th>\n",
              "      <td>6.2</td>\n",
              "      <td>3.4</td>\n",
              "      <td>5.4</td>\n",
              "      <td>2.3</td>\n",
              "      <td>2</td>\n",
              "    </tr>\n",
              "    <tr>\n",
              "      <th>149</th>\n",
              "      <td>5.9</td>\n",
              "      <td>3.0</td>\n",
              "      <td>5.1</td>\n",
              "      <td>1.8</td>\n",
              "      <td>2</td>\n",
              "    </tr>\n",
              "  </tbody>\n",
              "</table>\n",
              "<p>150 rows × 5 columns</p>\n",
              "</div>\n",
              "    <div class=\"colab-df-buttons\">\n",
              "\n",
              "  <div class=\"colab-df-container\">\n",
              "    <button class=\"colab-df-convert\" onclick=\"convertToInteractive('df-d24192e6-ea02-4922-a196-218837369e2f')\"\n",
              "            title=\"Convert this dataframe to an interactive table.\"\n",
              "            style=\"display:none;\">\n",
              "\n",
              "  <svg xmlns=\"http://www.w3.org/2000/svg\" height=\"24px\" viewBox=\"0 -960 960 960\">\n",
              "    <path d=\"M120-120v-720h720v720H120Zm60-500h600v-160H180v160Zm220 220h160v-160H400v160Zm0 220h160v-160H400v160ZM180-400h160v-160H180v160Zm440 0h160v-160H620v160ZM180-180h160v-160H180v160Zm440 0h160v-160H620v160Z\"/>\n",
              "  </svg>\n",
              "    </button>\n",
              "\n",
              "  <style>\n",
              "    .colab-df-container {\n",
              "      display:flex;\n",
              "      gap: 12px;\n",
              "    }\n",
              "\n",
              "    .colab-df-convert {\n",
              "      background-color: #E8F0FE;\n",
              "      border: none;\n",
              "      border-radius: 50%;\n",
              "      cursor: pointer;\n",
              "      display: none;\n",
              "      fill: #1967D2;\n",
              "      height: 32px;\n",
              "      padding: 0 0 0 0;\n",
              "      width: 32px;\n",
              "    }\n",
              "\n",
              "    .colab-df-convert:hover {\n",
              "      background-color: #E2EBFA;\n",
              "      box-shadow: 0px 1px 2px rgba(60, 64, 67, 0.3), 0px 1px 3px 1px rgba(60, 64, 67, 0.15);\n",
              "      fill: #174EA6;\n",
              "    }\n",
              "\n",
              "    .colab-df-buttons div {\n",
              "      margin-bottom: 4px;\n",
              "    }\n",
              "\n",
              "    [theme=dark] .colab-df-convert {\n",
              "      background-color: #3B4455;\n",
              "      fill: #D2E3FC;\n",
              "    }\n",
              "\n",
              "    [theme=dark] .colab-df-convert:hover {\n",
              "      background-color: #434B5C;\n",
              "      box-shadow: 0px 1px 3px 1px rgba(0, 0, 0, 0.15);\n",
              "      filter: drop-shadow(0px 1px 2px rgba(0, 0, 0, 0.3));\n",
              "      fill: #FFFFFF;\n",
              "    }\n",
              "  </style>\n",
              "\n",
              "    <script>\n",
              "      const buttonEl =\n",
              "        document.querySelector('#df-d24192e6-ea02-4922-a196-218837369e2f button.colab-df-convert');\n",
              "      buttonEl.style.display =\n",
              "        google.colab.kernel.accessAllowed ? 'block' : 'none';\n",
              "\n",
              "      async function convertToInteractive(key) {\n",
              "        const element = document.querySelector('#df-d24192e6-ea02-4922-a196-218837369e2f');\n",
              "        const dataTable =\n",
              "          await google.colab.kernel.invokeFunction('convertToInteractive',\n",
              "                                                    [key], {});\n",
              "        if (!dataTable) return;\n",
              "\n",
              "        const docLinkHtml = 'Like what you see? Visit the ' +\n",
              "          '<a target=\"_blank\" href=https://colab.research.google.com/notebooks/data_table.ipynb>data table notebook</a>'\n",
              "          + ' to learn more about interactive tables.';\n",
              "        element.innerHTML = '';\n",
              "        dataTable['output_type'] = 'display_data';\n",
              "        await google.colab.output.renderOutput(dataTable, element);\n",
              "        const docLink = document.createElement('div');\n",
              "        docLink.innerHTML = docLinkHtml;\n",
              "        element.appendChild(docLink);\n",
              "      }\n",
              "    </script>\n",
              "  </div>\n",
              "\n",
              "\n",
              "<div id=\"df-30474e74-6714-405d-a1b4-d5d952e1ef47\">\n",
              "  <button class=\"colab-df-quickchart\" onclick=\"quickchart('df-30474e74-6714-405d-a1b4-d5d952e1ef47')\"\n",
              "            title=\"Suggest charts\"\n",
              "            style=\"display:none;\">\n",
              "\n",
              "<svg xmlns=\"http://www.w3.org/2000/svg\" height=\"24px\"viewBox=\"0 0 24 24\"\n",
              "     width=\"24px\">\n",
              "    <g>\n",
              "        <path d=\"M19 3H5c-1.1 0-2 .9-2 2v14c0 1.1.9 2 2 2h14c1.1 0 2-.9 2-2V5c0-1.1-.9-2-2-2zM9 17H7v-7h2v7zm4 0h-2V7h2v10zm4 0h-2v-4h2v4z\"/>\n",
              "    </g>\n",
              "</svg>\n",
              "  </button>\n",
              "\n",
              "<style>\n",
              "  .colab-df-quickchart {\n",
              "      --bg-color: #E8F0FE;\n",
              "      --fill-color: #1967D2;\n",
              "      --hover-bg-color: #E2EBFA;\n",
              "      --hover-fill-color: #174EA6;\n",
              "      --disabled-fill-color: #AAA;\n",
              "      --disabled-bg-color: #DDD;\n",
              "  }\n",
              "\n",
              "  [theme=dark] .colab-df-quickchart {\n",
              "      --bg-color: #3B4455;\n",
              "      --fill-color: #D2E3FC;\n",
              "      --hover-bg-color: #434B5C;\n",
              "      --hover-fill-color: #FFFFFF;\n",
              "      --disabled-bg-color: #3B4455;\n",
              "      --disabled-fill-color: #666;\n",
              "  }\n",
              "\n",
              "  .colab-df-quickchart {\n",
              "    background-color: var(--bg-color);\n",
              "    border: none;\n",
              "    border-radius: 50%;\n",
              "    cursor: pointer;\n",
              "    display: none;\n",
              "    fill: var(--fill-color);\n",
              "    height: 32px;\n",
              "    padding: 0;\n",
              "    width: 32px;\n",
              "  }\n",
              "\n",
              "  .colab-df-quickchart:hover {\n",
              "    background-color: var(--hover-bg-color);\n",
              "    box-shadow: 0 1px 2px rgba(60, 64, 67, 0.3), 0 1px 3px 1px rgba(60, 64, 67, 0.15);\n",
              "    fill: var(--button-hover-fill-color);\n",
              "  }\n",
              "\n",
              "  .colab-df-quickchart-complete:disabled,\n",
              "  .colab-df-quickchart-complete:disabled:hover {\n",
              "    background-color: var(--disabled-bg-color);\n",
              "    fill: var(--disabled-fill-color);\n",
              "    box-shadow: none;\n",
              "  }\n",
              "\n",
              "  .colab-df-spinner {\n",
              "    border: 2px solid var(--fill-color);\n",
              "    border-color: transparent;\n",
              "    border-bottom-color: var(--fill-color);\n",
              "    animation:\n",
              "      spin 1s steps(1) infinite;\n",
              "  }\n",
              "\n",
              "  @keyframes spin {\n",
              "    0% {\n",
              "      border-color: transparent;\n",
              "      border-bottom-color: var(--fill-color);\n",
              "      border-left-color: var(--fill-color);\n",
              "    }\n",
              "    20% {\n",
              "      border-color: transparent;\n",
              "      border-left-color: var(--fill-color);\n",
              "      border-top-color: var(--fill-color);\n",
              "    }\n",
              "    30% {\n",
              "      border-color: transparent;\n",
              "      border-left-color: var(--fill-color);\n",
              "      border-top-color: var(--fill-color);\n",
              "      border-right-color: var(--fill-color);\n",
              "    }\n",
              "    40% {\n",
              "      border-color: transparent;\n",
              "      border-right-color: var(--fill-color);\n",
              "      border-top-color: var(--fill-color);\n",
              "    }\n",
              "    60% {\n",
              "      border-color: transparent;\n",
              "      border-right-color: var(--fill-color);\n",
              "    }\n",
              "    80% {\n",
              "      border-color: transparent;\n",
              "      border-right-color: var(--fill-color);\n",
              "      border-bottom-color: var(--fill-color);\n",
              "    }\n",
              "    90% {\n",
              "      border-color: transparent;\n",
              "      border-bottom-color: var(--fill-color);\n",
              "    }\n",
              "  }\n",
              "</style>\n",
              "\n",
              "  <script>\n",
              "    async function quickchart(key) {\n",
              "      const quickchartButtonEl =\n",
              "        document.querySelector('#' + key + ' button');\n",
              "      quickchartButtonEl.disabled = true;  // To prevent multiple clicks.\n",
              "      quickchartButtonEl.classList.add('colab-df-spinner');\n",
              "      try {\n",
              "        const charts = await google.colab.kernel.invokeFunction(\n",
              "            'suggestCharts', [key], {});\n",
              "      } catch (error) {\n",
              "        console.error('Error during call to suggestCharts:', error);\n",
              "      }\n",
              "      quickchartButtonEl.classList.remove('colab-df-spinner');\n",
              "      quickchartButtonEl.classList.add('colab-df-quickchart-complete');\n",
              "    }\n",
              "    (() => {\n",
              "      let quickchartButtonEl =\n",
              "        document.querySelector('#df-30474e74-6714-405d-a1b4-d5d952e1ef47 button');\n",
              "      quickchartButtonEl.style.display =\n",
              "        google.colab.kernel.accessAllowed ? 'block' : 'none';\n",
              "    })();\n",
              "  </script>\n",
              "</div>\n",
              "    </div>\n",
              "  </div>\n"
            ],
            "application/vnd.google.colaboratory.intrinsic+json": {
              "type": "dataframe",
              "variable_name": "df",
              "summary": "{\n  \"name\": \"df\",\n  \"rows\": 150,\n  \"fields\": [\n    {\n      \"column\": \"sepal length (cm)\",\n      \"properties\": {\n        \"dtype\": \"number\",\n        \"std\": 0.828066127977863,\n        \"min\": 4.3,\n        \"max\": 7.9,\n        \"num_unique_values\": 35,\n        \"samples\": [\n          6.2,\n          4.5,\n          5.6\n        ],\n        \"semantic_type\": \"\",\n        \"description\": \"\"\n      }\n    },\n    {\n      \"column\": \"sepal width (cm)\",\n      \"properties\": {\n        \"dtype\": \"number\",\n        \"std\": 0.4358662849366982,\n        \"min\": 2.0,\n        \"max\": 4.4,\n        \"num_unique_values\": 23,\n        \"samples\": [\n          2.3,\n          4.0,\n          3.5\n        ],\n        \"semantic_type\": \"\",\n        \"description\": \"\"\n      }\n    },\n    {\n      \"column\": \"petal length (cm)\",\n      \"properties\": {\n        \"dtype\": \"number\",\n        \"std\": 1.7652982332594662,\n        \"min\": 1.0,\n        \"max\": 6.9,\n        \"num_unique_values\": 43,\n        \"samples\": [\n          6.7,\n          3.8,\n          3.7\n        ],\n        \"semantic_type\": \"\",\n        \"description\": \"\"\n      }\n    },\n    {\n      \"column\": \"petal width (cm)\",\n      \"properties\": {\n        \"dtype\": \"number\",\n        \"std\": 0.7622376689603465,\n        \"min\": 0.1,\n        \"max\": 2.5,\n        \"num_unique_values\": 22,\n        \"samples\": [\n          0.2,\n          1.2,\n          1.3\n        ],\n        \"semantic_type\": \"\",\n        \"description\": \"\"\n      }\n    },\n    {\n      \"column\": \"target\",\n      \"properties\": {\n        \"dtype\": \"number\",\n        \"std\": 0,\n        \"min\": 0,\n        \"max\": 2,\n        \"num_unique_values\": 3,\n        \"samples\": [\n          0,\n          1,\n          2\n        ],\n        \"semantic_type\": \"\",\n        \"description\": \"\"\n      }\n    }\n  ]\n}"
            }
          },
          "metadata": {},
          "execution_count": 43
        }
      ]
    },
    {
      "source": [
        "# @title sepal length (cm)\n",
        "\n",
        "from matplotlib import pyplot as plt\n",
        "df['sepal length (cm)'].plot(kind='hist', bins=20, title='sepal length (cm)')\n",
        "plt.gca().spines[['top', 'right',]].set_visible(False)"
      ],
      "cell_type": "code",
      "execution_count": 48,
      "outputs": [
        {
          "output_type": "display_data",
          "data": {
            "text/plain": [
              "<Figure size 640x480 with 1 Axes>"
            ],
            "image/png": "[encoded data removed]"
          },
          "metadata": {}
        }
      ],
      "metadata": {
        "cellView": "form",
        "colab": {
          "base_uri": "https://localhost:8080/",
          "height": 452
        },
        "id": "ZoRIRbHWCHQW",
        "outputId": "9c5046d1-7cec-48db-a0eb-c5f4d48155db"
      }
    },
    {
      "cell_type": "code",
      "source": [
        "# Establece el nuevo ancho y alto para el contenedor\n",
        "PBI_visualize.set_size(400, 600)\n"
      ],
      "metadata": {
        "id": "LWvpkxop1Arp"
      },
      "execution_count": 46,
      "outputs": []
    },
    {
      "cell_type": "code",
      "source": [
        "from google.colab import output\n",
        "output.enable_custom_widget_manager()"
      ],
      "metadata": {
        "id": "B6iztpiAEF4M"
      },
      "execution_count": 54,
      "outputs": []
    },
    {
      "cell_type": "markdown",
      "source": [
        "Support for third party widgets will remain active for the duration of the session. To disable support:"
      ],
      "metadata": {
        "id": "Tsfg3_2-EF4O"
      }
    },
    {
      "cell_type": "code",
      "source": [
        "from google.colab import output\n",
        "output.disable_custom_widget_manager()"
      ],
      "metadata": {
        "id": "La_aI3huEF4S"
      },
      "execution_count": null,
      "outputs": []
    },
    {
      "cell_type": "code",
      "source": [
        "# Create a Power BI report from your data\n",
        "PBI_visualize = QuickVisualize(get_dataset_config(df), auth=device_auth)\n",
        "\n",
        "# Render new report\n",
        "PBI_visualize"
      ],
      "metadata": {
        "colab": {
          "base_uri": "https://localhost:8080/",
          "height": 678,
          "referenced_widgets": [
            "e13c0df57d3a45dd87be76dc707d6510",
            "fe681957610a41cb8cfda2c803ef7acd"
          ]
        },
        "id": "wEECDaPGDoXM",
        "outputId": "a7e1b2d3-e7eb-4e1c-97e2-289dcc1b6c6c"
      },
      "execution_count": 56,
      "outputs": [
        {
          "output_type": "display_data",
          "data": {
            "text/plain": [
              "QuickVisualize()"
            ],
            "application/vnd.jupyter.widget-view+json": {
              "version_major": 2,
              "version_minor": 0,
              "model_id": "e13c0df57d3a45dd87be76dc707d6510"
            }
          },
          "metadata": {
            "application/vnd.jupyter.widget-view+json": {
              "colab": {
                "custom_widget_manager": {
                  "url": "https://ssl.gstatic.com/colaboratory-static/widgets/colab-cdn-widget-manager/2b70e893a8ba7c0f/manager.min.js"
                }
              }
            }
          }
        }
      ]
    }
  ]
}